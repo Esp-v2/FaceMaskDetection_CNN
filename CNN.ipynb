{
  "nbformat": 4,
  "nbformat_minor": 0,
  "metadata": {
    "colab": {
      "name": "CNN.ipynb",
      "provenance": [],
      "collapsed_sections": []
    },
    "kernelspec": {
      "name": "python3",
      "display_name": "Python 3"
    },
    "language_info": {
      "name": "python"
    },
    "accelerator": "GPU"
  },
  "cells": [
    {
      "cell_type": "markdown",
      "metadata": {
        "id": "53tkUaWtI3OV"
      },
      "source": [
        "**マスク装着の有無のCNNによる分類**"
      ]
    },
    {
      "cell_type": "markdown",
      "metadata": {
        "id": "8iOZ3MoeNQyq"
      },
      "source": [
        "**参考**\n",
        "*   https://hajimerobot.co.jp/ai/cnn/\n",
        "*   https://qiita.com/yakisobamilk/items/686d6ad5ae3285aec639"
      ]
    },
    {
      "cell_type": "code",
      "metadata": {
        "id": "nE6pNQRfQ0RN",
        "colab": {
          "base_uri": "https://localhost:8080/"
        },
        "outputId": "b4d02a01-57d5-43d5-d94a-51f58fbb71b4"
      },
      "source": [
        "from google.colab import drive\n",
        "drive.mount('/content/drive')"
      ],
      "execution_count": null,
      "outputs": [
        {
          "output_type": "stream",
          "name": "stdout",
          "text": [
            "Mounted at /content/drive\n"
          ]
        }
      ]
    },
    {
      "cell_type": "code",
      "metadata": {
        "id": "SvBwdyP3LAz7"
      },
      "source": [
        "import os\n",
        "import keras\n",
        "from keras.preprocessing.image import ImageDataGenerator\n",
        "from keras.models import Sequential, Model\n",
        "from keras.layers import Input, Dense, Dropout, Activation, Flatten,MaxPooling2D,Conv2D\n",
        "from keras import optimizers\n",
        "from tensorflow.keras.optimizers import RMSprop\n",
        "from tensorflow.keras.optimizers import Adam"
      ],
      "execution_count": null,
      "outputs": []
    },
    {
      "cell_type": "code",
      "metadata": {
        "id": "UTbgjjurpNQg",
        "colab": {
          "base_uri": "https://localhost:8080/",
          "height": 35
        },
        "outputId": "4da03ba9-cd7e-4b0b-d6ed-5016c17edcff"
      },
      "source": [
        "keras.__version__"
      ],
      "execution_count": null,
      "outputs": [
        {
          "output_type": "execute_result",
          "data": {
            "application/vnd.google.colaboratory.intrinsic+json": {
              "type": "string"
            },
            "text/plain": [
              "'2.6.0'"
            ]
          },
          "metadata": {},
          "execution_count": 3
        }
      ]
    },
    {
      "cell_type": "markdown",
      "metadata": {
        "id": "PLugsypvskX2"
      },
      "source": [
        "**訓練画像、検証画像、テスト画像のディレクトリ**"
      ]
    },
    {
      "cell_type": "code",
      "metadata": {
        "id": "9zgyhFfaNxFr"
      },
      "source": [
        "# 分類クラス\n",
        "classes = ['WithoutMask', 'WithMask']\n",
        "nb_classes = len(classes)\n",
        "batch_size_for_data_generator = 20\n",
        "\n",
        "base_dir = '/content/drive/MyDrive/kaggle/FaceMaskDetection/FaceMaskDataset'\n",
        "\n",
        "train_dir = base_dir+'/train'\n",
        "validation_dir = base_dir+'/validation'\n",
        "test_dir = base_dir+'/test'\n",
        "\n",
        "train_WithoutMask_dir = train_dir+'/WithoutMask'\n",
        "train_WithMask_dir = train_dir+ '/WithMask'\n",
        "\n",
        "validation_WithoutMask_dir = validation_dir+ '/WithoutMask'\n",
        "validation_WithMask_dir = validation_dir+ '/WithMask'\n",
        "\n",
        "test_WithoutMask_dir = test_dir+ '/WithoutMask'\n",
        "test_WithMask_dir = test_dir+ '/WithMask'\n",
        "\n",
        "# 平均ぐらいの画像サイズがいいらしい\n",
        "img_rows, img_cols = 256, 256"
      ],
      "execution_count": null,
      "outputs": []
    },
    {
      "cell_type": "markdown",
      "metadata": {
        "id": "Y1YW2iEUuZRt"
      },
      "source": [
        "**画像データの数を確認する**"
      ]
    },
    {
      "cell_type": "code",
      "metadata": {
        "id": "Q6ypSn3uuY0w",
        "colab": {
          "base_uri": "https://localhost:8080/"
        },
        "outputId": "6d0d3dcc-632f-4285-e5ec-f383c6bdf8c4"
      },
      "source": [
        "print('total training WithoutMask images:', len(os.listdir(train_WithoutMask_dir)),train_WithoutMask_dir)\n",
        "print('total training WithMask images:', len(os.listdir(train_WithMask_dir)),train_WithMask_dir)\n",
        "print('\\n')\n",
        "print('total validation WithoutMask images:', len(os.listdir(validation_WithoutMask_dir)),validation_WithoutMask_dir)\n",
        "print('total validation WithMask images:', len(os.listdir(validation_WithMask_dir)),validation_WithMask_dir)\n",
        "print('\\n')\n",
        "print('total test WithoutMask images:', len(os.listdir(test_WithoutMask_dir)),test_WithoutMask_dir)\n",
        "print('total test WithMask images:', len(os.listdir(test_WithMask_dir)),test_WithMask_dir)"
      ],
      "execution_count": null,
      "outputs": [
        {
          "output_type": "stream",
          "name": "stdout",
          "text": [
            "total training WithoutMask images: 5000 /content/drive/MyDrive/kaggle/FaceMaskDetection/FaceMaskDataset/train/WithoutMask\n",
            "total training WithMask images: 5040 /content/drive/MyDrive/kaggle/FaceMaskDetection/FaceMaskDataset/train/WithMask\n",
            "\n",
            "\n",
            "total validation WithoutMask images: 400 /content/drive/MyDrive/kaggle/FaceMaskDetection/FaceMaskDataset/validation/WithoutMask\n",
            "total validation WithMask images: 400 /content/drive/MyDrive/kaggle/FaceMaskDetection/FaceMaskDataset/validation/WithMask\n",
            "\n",
            "\n",
            "total test WithoutMask images: 509 /content/drive/MyDrive/kaggle/FaceMaskDetection/FaceMaskDataset/test/WithoutMask\n",
            "total test WithMask images: 483 /content/drive/MyDrive/kaggle/FaceMaskDetection/FaceMaskDataset/test/WithMask\n"
          ]
        }
      ]
    },
    {
      "cell_type": "markdown",
      "metadata": {
        "id": "YH4kzn0btOTP"
      },
      "source": [
        "**ImageDataGeneratorを使って画像データを拡張する**"
      ]
    },
    {
      "cell_type": "markdown",
      "metadata": {
        "id": "o7IvlCRuudyh"
      },
      "source": [
        "*   rescale：画素値を変換する[0,1]で正規化？\n",
        "*   sher_range：せん断 (shear transformation) する。平行四辺形のような感じ\n",
        "*   zoom_range：拡大縮小をする。=0.2にすると[1 - 0.2, 1 + 0.2]の範囲でランダムに拡大縮小する。\n",
        "*   horizontal_flip：=Trueでランダム左右反転\n",
        "\n"
      ]
    },
    {
      "cell_type": "code",
      "metadata": {
        "id": "DdhLYpDZp9fj",
        "colab": {
          "base_uri": "https://localhost:8080/"
        },
        "outputId": "26e59ce0-325c-4d7d-aa3f-4f34b1e538a0"
      },
      "source": [
        "train_datagen = ImageDataGenerator(rescale=1.0 / 255,shear_range=0.2,zoom_range=0.2,horizontal_flip=True)\n",
        "train_generator = train_datagen.flow_from_directory(directory=train_dir,target_size=(img_rows, img_cols),color_mode='rgb',classes=classes,class_mode='categorical',batch_size=256,shuffle=True)"
      ],
      "execution_count": null,
      "outputs": [
        {
          "output_type": "stream",
          "name": "stdout",
          "text": [
            "Found 10040 images belonging to 2 classes.\n"
          ]
        }
      ]
    },
    {
      "cell_type": "code",
      "metadata": {
        "id": "uzsXGfZztfq7",
        "colab": {
          "base_uri": "https://localhost:8080/"
        },
        "outputId": "3d2cb6f1-6b88-4387-8ded-218a963c01cb"
      },
      "source": [
        "test_datagen = ImageDataGenerator(rescale=1.0 / 255)\n",
        "validation_generator = test_datagen.flow_from_directory(directory=validation_dir,target_size=(img_rows, img_cols),color_mode='rgb',classes=classes,class_mode='categorical',batch_size=32,shuffle=True)"
      ],
      "execution_count": null,
      "outputs": [
        {
          "output_type": "stream",
          "name": "stdout",
          "text": [
            "Found 800 images belonging to 2 classes.\n"
          ]
        }
      ]
    },
    {
      "cell_type": "markdown",
      "metadata": {
        "id": "JYqYM5Z02zMq"
      },
      "source": [
        "**CNNモデル**"
      ]
    },
    {
      "cell_type": "markdown",
      "metadata": {
        "id": "_Djy-4jI3i0k"
      },
      "source": [
        "*   畳み込み層\n",
        "\n",
        "    フィルタ数、フィルタサイズ(3,3),(5,5)が多い、活性化関数、input_shape=(img_rows, img_cols, 3)カラー画像なら3\n",
        "\n",
        "    model.add(Conv2D(32,(3,3),activation='relu',input_shape=(img_rows, img_cols, 3)))"
      ]
    },
    {
      "cell_type": "markdown",
      "metadata": {
        "id": "AciSZzGs38tg"
      },
      "source": [
        "\n",
        "\n",
        "*   プーリング層\n",
        "\n",
        "    MaxPoolingで(2,2)のプールサイズで最大の数値をとる\n",
        "\n"
      ]
    },
    {
      "cell_type": "markdown",
      "metadata": {
        "id": "eMw39wpY4uIu"
      },
      "source": [
        "\n",
        "\n",
        "*   全結合層\n",
        "\n",
        "    model.add(Flatten())\n",
        "    \n",
        "    前までの特徴マップを1次元に変換する\n",
        "\n",
        "    model.add(Dense(512,activation='relu'))：512個のニューロン\n",
        "\n"
      ]
    },
    {
      "cell_type": "code",
      "metadata": {
        "id": "XodG6ORL21mp",
        "colab": {
          "base_uri": "https://localhost:8080/"
        },
        "outputId": "50d6ae8e-7e8c-4202-e03c-d75aa888f670"
      },
      "source": [
        "model=Sequential()\n",
        "# 畳み込み層\n",
        "model.add(Conv2D(32,(3,3),activation='relu',input_shape=(img_rows, img_cols, 3)))\n",
        "model.add(MaxPooling2D((2,2)))\n",
        "\n",
        "model.add(Conv2D(64,(3,3),activation='relu'))\n",
        "model.add(MaxPooling2D((2,2)))\n",
        "\n",
        "model.add(Conv2D(128,(3,3),activation='relu'))\n",
        "model.add(MaxPooling2D((2,2)))\n",
        "\n",
        "model.add(Conv2D(128,(3,3),activation='relu'))\n",
        "model.add(MaxPooling2D((2,2)))\n",
        "\n",
        "model.add(Conv2D(128,(3,3),activation='relu'))\n",
        "model.add(MaxPooling2D((2,2)))\n",
        "# 全結合層\n",
        "model.add(Flatten())\n",
        "model.add(Dense(512,activation='relu'))\n",
        "# 出力層\n",
        "model.add(Dense(nb_classes,activation='softmax'))\n",
        "          \n",
        "model.summary()"
      ],
      "execution_count": null,
      "outputs": [
        {
          "output_type": "stream",
          "name": "stdout",
          "text": [
            "Model: \"sequential\"\n",
            "_________________________________________________________________\n",
            "Layer (type)                 Output Shape              Param #   \n",
            "=================================================================\n",
            "conv2d (Conv2D)              (None, 254, 254, 32)      896       \n",
            "_________________________________________________________________\n",
            "max_pooling2d (MaxPooling2D) (None, 127, 127, 32)      0         \n",
            "_________________________________________________________________\n",
            "conv2d_1 (Conv2D)            (None, 125, 125, 64)      18496     \n",
            "_________________________________________________________________\n",
            "max_pooling2d_1 (MaxPooling2 (None, 62, 62, 64)        0         \n",
            "_________________________________________________________________\n",
            "conv2d_2 (Conv2D)            (None, 60, 60, 128)       73856     \n",
            "_________________________________________________________________\n",
            "max_pooling2d_2 (MaxPooling2 (None, 30, 30, 128)       0         \n",
            "_________________________________________________________________\n",
            "conv2d_3 (Conv2D)            (None, 28, 28, 128)       147584    \n",
            "_________________________________________________________________\n",
            "max_pooling2d_3 (MaxPooling2 (None, 14, 14, 128)       0         \n",
            "_________________________________________________________________\n",
            "conv2d_4 (Conv2D)            (None, 12, 12, 128)       147584    \n",
            "_________________________________________________________________\n",
            "max_pooling2d_4 (MaxPooling2 (None, 6, 6, 128)         0         \n",
            "_________________________________________________________________\n",
            "flatten (Flatten)            (None, 4608)              0         \n",
            "_________________________________________________________________\n",
            "dense (Dense)                (None, 512)               2359808   \n",
            "_________________________________________________________________\n",
            "dense_1 (Dense)              (None, 2)                 1026      \n",
            "=================================================================\n",
            "Total params: 2,749,250\n",
            "Trainable params: 2,749,250\n",
            "Non-trainable params: 0\n",
            "_________________________________________________________________\n"
          ]
        }
      ]
    },
    {
      "cell_type": "code",
      "metadata": {
        "id": "7UUA4in_28t_",
        "colab": {
          "base_uri": "https://localhost:8080/"
        },
        "outputId": "5a39a940-98a7-41a9-f8b6-29c83802de27"
      },
      "source": [
        "# モデルのコンパイル\n",
        "opt = Adam(lr=0.001, decay=1e-6)\n",
        "model.compile(loss='binary_crossentropy',optimizer= opt, metrics=['acc'])"
      ],
      "execution_count": null,
      "outputs": [
        {
          "output_type": "stream",
          "name": "stderr",
          "text": [
            "/usr/local/lib/python3.7/dist-packages/keras/optimizer_v2/optimizer_v2.py:356: UserWarning: The `lr` argument is deprecated, use `learning_rate` instead.\n",
            "  \"The `lr` argument is deprecated, use `learning_rate` instead.\")\n"
          ]
        }
      ]
    },
    {
      "cell_type": "markdown",
      "metadata": {
        "id": "MiF5Ozi842-t"
      },
      "source": [
        "↑from tensorflow.keras.optimizers import RMSpropじゃないと動かない"
      ]
    },
    {
      "cell_type": "markdown",
      "metadata": {
        "id": "ZHZaHmsDh0Gm"
      },
      "source": [
        "**学習**\n",
        "\n",
        "batchSize * steps_per_epoch = 10040\n",
        "(256*36)\n",
        "\n",
        "512*18以上だとResourceExhaustedErrorが出る\n",
        "\n",
        "batchSize * validation_steps = 800\n",
        "(32*25)\n",
        "\n",
        "batchSize2ケタ？\n",
        "\n",
        "機械学習／ディープラーニングにおけるバッチサイズ、イテレーション数、エポック数の決め方\n",
        "https://qiita.com/kenta1984/items/bad75a37d552510e4682\n",
        "\n",
        "\n",
        "*   バッチサイズ：データセットのサイズが小さければ32, 64などの小さめの値、大きければ1024, 2048などの大きめの値\n",
        "*   イテレーション数：バッチサイズによる\n",
        "*   エポック数：損失関数の値がほぼ収束するまで"
      ]
    },
    {
      "cell_type": "markdown",
      "metadata": {
        "id": "7RnsBH1utd_s"
      },
      "source": [
        "エポック数50でやって7ぐらいで収束したので"
      ]
    },
    {
      "cell_type": "code",
      "metadata": {
        "id": "2Dc_KQbW5HOO",
        "colab": {
          "base_uri": "https://localhost:8080/"
        },
        "outputId": "30374382-bf78-45d5-852d-7775b8e54933"
      },
      "source": [
        "history = model.fit(train_generator,steps_per_epoch=36,epochs=5,validation_data=validation_generator,validation_steps=25,verbose=1)"
      ],
      "execution_count": null,
      "outputs": [
        {
          "output_type": "stream",
          "name": "stdout",
          "text": [
            "Epoch 1/5\n",
            "36/36 [==============================] - 4461s 123s/step - loss: 0.3184 - acc: 0.8634 - val_loss: 0.1135 - val_acc: 0.9525\n",
            "Epoch 2/5\n",
            "36/36 [==============================] - 463s 13s/step - loss: 0.1068 - acc: 0.9606 - val_loss: 0.0712 - val_acc: 0.9775\n",
            "Epoch 3/5\n",
            "36/36 [==============================] - 182s 5s/step - loss: 0.0776 - acc: 0.9743 - val_loss: 0.0615 - val_acc: 0.9762\n",
            "Epoch 4/5\n",
            "36/36 [==============================] - 166s 5s/step - loss: 0.0623 - acc: 0.9787 - val_loss: 0.0474 - val_acc: 0.9812\n",
            "Epoch 5/5\n",
            "36/36 [==============================] - 163s 5s/step - loss: 0.0441 - acc: 0.9844 - val_loss: 0.0479 - val_acc: 0.9762\n"
          ]
        }
      ]
    },
    {
      "cell_type": "markdown",
      "metadata": {
        "id": "coNwQlPflJQY"
      },
      "source": [
        "**実行時間**\n",
        "50epochで3h"
      ]
    },
    {
      "cell_type": "code",
      "metadata": {
        "id": "-869bn7jYbHd"
      },
      "source": [
        "# 学習結果を保存する\n",
        "hdf5_file = os.path.join(base_dir, 'mask-model_cnn.hdf5')\n",
        "model.save_weights(hdf5_file)"
      ],
      "execution_count": null,
      "outputs": []
    },
    {
      "cell_type": "markdown",
      "metadata": {
        "id": "mi8IPCKL4Mz8"
      },
      "source": [
        "**学習推移をグラフに表示する**"
      ]
    },
    {
      "cell_type": "code",
      "metadata": {
        "id": "1HC4vjVlYlZW"
      },
      "source": [
        "import matplotlib.pyplot as plt"
      ],
      "execution_count": null,
      "outputs": []
    },
    {
      "cell_type": "code",
      "metadata": {
        "id": "gGJYnLSUYmOW"
      },
      "source": [
        "%matplotlib inline"
      ],
      "execution_count": null,
      "outputs": []
    },
    {
      "cell_type": "code",
      "metadata": {
        "id": "5ipOijTbYoov",
        "colab": {
          "base_uri": "https://localhost:8080/",
          "height": 545
        },
        "outputId": "cf021685-a9c6-4d37-9ca3-f44f84920a01"
      },
      "source": [
        "acc = history.history['acc']\n",
        "val_acc = history.history['val_acc']\n",
        "loss = history.history['loss']\n",
        "val_loss = history.history['val_loss']\n",
        "\n",
        "epochs = range(len(acc))\n",
        "\n",
        "plt.plot(epochs, acc, 'bo', label='Training acc')\n",
        "plt.plot(epochs, val_acc, 'b', label='Validation acc')\n",
        "plt.title('Training and validation accuracy')\n",
        "plt.legend()\n",
        "\n",
        "plt.figure()\n",
        "\n",
        "plt.plot(epochs, loss, 'bo', label='Training loss')\n",
        "plt.plot(epochs, val_loss, 'b', label='Validation loss')\n",
        "plt.title('Training and validation loss')\n",
        "plt.legend()\n",
        "\n",
        "plt.show()\n"
      ],
      "execution_count": null,
      "outputs": [
        {
          "output_type": "display_data",
          "data": {
            "image/png": "[encoded data removed]",
            "text/plain": [
              "<Figure size 432x288 with 1 Axes>"
            ]
          },
          "metadata": {
            "needs_background": "light"
          }
        },
        {
          "output_type": "display_data",
          "data": {
            "image/png": "[encoded data removed]",
            "text/plain": [
              "<Figure size 432x288 with 1 Axes>"
            ]
          },
          "metadata": {
            "needs_background": "light"
          }
        }
      ]
    },
    {
      "cell_type": "markdown",
      "metadata": {
        "id": "g0PFqBJ2Yvii"
      },
      "source": [
        "**テスト画像データで正答率を調べる**"
      ]
    },
    {
      "cell_type": "code",
      "metadata": {
        "id": "Kzuy1NRoYzcB",
        "colab": {
          "base_uri": "https://localhost:8080/"
        },
        "outputId": "eec11662-04c8-484c-f452-22428ac6266b"
      },
      "source": [
        "test_generator = test_datagen.flow_from_directory(directory=test_dir,target_size=(img_rows, img_cols),color_mode='rgb',classes=classes,class_mode='categorical',batch_size=batch_size_for_data_generator)\n",
        "\n",
        "test_loss, test_acc = model.evaluate(test_generator, steps=50)\n",
        "print('test acc:', test_acc)"
      ],
      "execution_count": null,
      "outputs": [
        {
          "output_type": "stream",
          "name": "stdout",
          "text": [
            "Found 992 images belonging to 2 classes.\n",
            "50/50 [==============================] - 456s 9s/step - loss: 0.0662 - acc: 0.9798\n",
            "test acc: 0.9798387289047241\n"
          ]
        }
      ]
    }
  ]
}